{
 "cells": [
  {
   "cell_type": "code",
   "execution_count": 1,
   "id": "146b4350",
   "metadata": {},
   "outputs": [],
   "source": [
    "#Funciones transformar inputs en outputs"
   ]
  },
  {
   "cell_type": "code",
   "execution_count": 2,
   "id": "373777c6",
   "metadata": {},
   "outputs": [
    {
     "data": {
      "text/plain": [
       "range(20, 31)"
      ]
     },
     "execution_count": 2,
     "metadata": {},
     "output_type": "execute_result"
    }
   ],
   "source": [
    "range(20,31)"
   ]
  },
  {
   "cell_type": "code",
   "execution_count": 3,
   "id": "6365d992",
   "metadata": {},
   "outputs": [
    {
     "data": {
      "text/plain": [
       "[20, 21, 22, 23, 24, 25, 26, 27, 28, 29, 30]"
      ]
     },
     "execution_count": 3,
     "metadata": {},
     "output_type": "execute_result"
    }
   ],
   "source": [
    "list(range(20,31))"
   ]
  },
  {
   "cell_type": "code",
   "execution_count": 4,
   "id": "c3346cd1",
   "metadata": {},
   "outputs": [],
   "source": [
    "Milista = list(range(20,31))"
   ]
  },
  {
   "cell_type": "code",
   "execution_count": 5,
   "id": "f8bba57c",
   "metadata": {},
   "outputs": [
    {
     "name": "stdout",
     "output_type": "stream",
     "text": [
      "[20, 21, 22, 23, 24, 25, 26, 27, 28, 29, 30]\n"
     ]
    },
    {
     "data": {
      "text/plain": [
       "11"
      ]
     },
     "execution_count": 5,
     "metadata": {},
     "output_type": "execute_result"
    }
   ],
   "source": [
    "print(Milista)\n",
    "len(Milista)"
   ]
  },
  {
   "cell_type": "code",
   "execution_count": 7,
   "id": "08c39076",
   "metadata": {},
   "outputs": [
    {
     "data": {
      "text/plain": [
       "(30, 20)"
      ]
     },
     "execution_count": 7,
     "metadata": {},
     "output_type": "execute_result"
    }
   ],
   "source": [
    "max(Milista), min(Milista)"
   ]
  },
  {
   "cell_type": "markdown",
   "id": "c46712e0",
   "metadata": {},
   "source": [
    "....."
   ]
  },
  {
   "cell_type": "code",
   "execution_count": 8,
   "id": "4b2fea50",
   "metadata": {},
   "outputs": [
    {
     "data": {
      "text/plain": [
       "[345, 553, 698, 934, 678, 521]"
      ]
     },
     "execution_count": 8,
     "metadata": {},
     "output_type": "execute_result"
    }
   ],
   "source": [
    "L=[345,553,698,934,678,521]\n",
    "L"
   ]
  },
  {
   "cell_type": "code",
   "execution_count": 9,
   "id": "073aad6e",
   "metadata": {},
   "outputs": [],
   "source": [
    "import numpy as np"
   ]
  },
  {
   "cell_type": "code",
   "execution_count": 10,
   "id": "3030a6d6",
   "metadata": {},
   "outputs": [
    {
     "data": {
      "text/plain": [
       "array([345, 553, 698, 934, 678, 521])"
      ]
     },
     "execution_count": 10,
     "metadata": {},
     "output_type": "execute_result"
    }
   ],
   "source": [
    "np.array(L) #Convertir listas en arreglo"
   ]
  },
  {
   "cell_type": "code",
   "execution_count": 11,
   "id": "8a31cdd7",
   "metadata": {},
   "outputs": [
    {
     "data": {
      "text/plain": [
       "array([345, 553, 698, 934, 678, 521])"
      ]
     },
     "execution_count": 11,
     "metadata": {},
     "output_type": "execute_result"
    }
   ],
   "source": [
    "a = np.array(L)\n",
    "a"
   ]
  },
  {
   "cell_type": "code",
   "execution_count": 12,
   "id": "0618753c",
   "metadata": {},
   "outputs": [
    {
     "data": {
      "text/plain": [
       "[553, 698, 934, 678, 521]"
      ]
     },
     "execution_count": 12,
     "metadata": {},
     "output_type": "execute_result"
    }
   ],
   "source": [
    "L[1:]"
   ]
  },
  {
   "cell_type": "code",
   "execution_count": 14,
   "id": "c41a59a9",
   "metadata": {},
   "outputs": [
    {
     "data": {
      "text/plain": [
       "[345, 553]"
      ]
     },
     "execution_count": 14,
     "metadata": {},
     "output_type": "execute_result"
    }
   ],
   "source": [
    "L[0:2]"
   ]
  },
  {
   "cell_type": "code",
   "execution_count": 15,
   "id": "7242c914",
   "metadata": {},
   "outputs": [
    {
     "data": {
      "text/plain": [
       "[345, 698, 678]"
      ]
     },
     "execution_count": 15,
     "metadata": {},
     "output_type": "execute_result"
    }
   ],
   "source": [
    "L[::2]"
   ]
  },
  {
   "cell_type": "code",
   "execution_count": 16,
   "id": "f6938696",
   "metadata": {},
   "outputs": [
    {
     "data": {
      "text/plain": [
       "array([698, 934, 678, 521])"
      ]
     },
     "execution_count": 16,
     "metadata": {},
     "output_type": "execute_result"
    }
   ],
   "source": [
    "a[2:] #Con los arreglos no se esta creando un nuevo array como si con las listas cuando se les hace slice"
   ]
  },
  {
   "cell_type": "code",
   "execution_count": 19,
   "id": "6f5c4556",
   "metadata": {},
   "outputs": [],
   "source": [
    "c = a.copy()"
   ]
  },
  {
   "cell_type": "code",
   "execution_count": 20,
   "id": "e8b82a8e",
   "metadata": {},
   "outputs": [
    {
     "data": {
      "text/plain": [
       "array([345, 553, 698, 934, 678, 521])"
      ]
     },
     "execution_count": 20,
     "metadata": {},
     "output_type": "execute_result"
    }
   ],
   "source": [
    "c"
   ]
  },
  {
   "cell_type": "code",
   "execution_count": 22,
   "id": "3672c450",
   "metadata": {},
   "outputs": [],
   "source": [
    "#Datos Tarea\n",
    "ingresosMensuales = [14574.49, 7606.46, 8611.41, 9175.41, 8058.65, 8105.44, 11496.28, 9766.09, 10305.32, 14379.96, 10713.97, 15433.50]\n",
    "gastosMensuales = [12051.82, 5695.07, 12319.20, 12089.72, 8658.57, 840.20, 3285.73, 5821.12, 6976.93, 16618.61, 10054.37, 3803.96]\n",
    "   \n"
   ]
  },
  {
   "cell_type": "code",
   "execution_count": 29,
   "id": "129e1142",
   "metadata": {},
   "outputs": [
    {
     "data": {
      "text/plain": [
       "[2522.67,\n",
       " 1911.3900000000003,\n",
       " -3707.790000000001,\n",
       " -2914.3099999999995,\n",
       " -599.9200000000001,\n",
       " 7265.24,\n",
       " 8210.550000000001,\n",
       " 3944.9700000000003,\n",
       " 3328.3899999999994,\n",
       " -2238.6500000000015,\n",
       " 659.5999999999985,\n",
       " 11629.54]"
      ]
     },
     "execution_count": 29,
     "metadata": {},
     "output_type": "execute_result"
    }
   ],
   "source": [
    "UtilidadMensual = []\n",
    "\n",
    "for i in range (0, len(ingresosMensuales)):\n",
    "    UtilidadMensual.append(ingresosMensuales[i]-gastosMensuales[i])\n",
    "UtilidadMensual"
   ]
  },
  {
   "cell_type": "code",
   "execution_count": 39,
   "id": "9d2f5c3c",
   "metadata": {},
   "outputs": [
    {
     "data": {
      "text/plain": [
       "[2523, 1911, -3708, -2914, -600, 7265, 8211, 3945, 3328, -2239, 660, 11630]"
      ]
     },
     "execution_count": 39,
     "metadata": {},
     "output_type": "execute_result"
    }
   ],
   "source": [
    "UtilidadMensualRedondeada = []\n",
    "\n",
    "for i in range(0, len(UtilidadMensual)):\n",
    "    UtilidadMensualRedondeada.append(round(UtilidadMensual[i]))\n",
    "UtilidadMensualRedondeada\n",
    "    "
   ]
  },
  {
   "cell_type": "code",
   "execution_count": null,
   "id": "9812572d",
   "metadata": {},
   "outputs": [],
   "source": []
  },
  {
   "cell_type": "code",
   "execution_count": 42,
   "id": "43e9e3d2",
   "metadata": {},
   "outputs": [
    {
     "data": {
      "text/plain": [
       "[1766, 1338, -2596, -2040, -420, 5086, 5748, 2762, 2330, -1567, 462, 8141]"
      ]
     },
     "execution_count": 42,
     "metadata": {},
     "output_type": "execute_result"
    }
   ],
   "source": [
    "UtilidadDespuesImpuestos = []\n",
    "\n",
    "for i in range(0, len(UtilidadMensualRedondeada)):\n",
    "    UtilidadDespuesImpuestos.append(round(0.7*UtilidadMensualRedondeada[i]))\n",
    "    \n",
    "UtilidadDespuesImpuestos\n",
    "    "
   ]
  },
  {
   "cell_type": "code",
   "execution_count": 46,
   "id": "ab372571",
   "metadata": {},
   "outputs": [
    {
     "data": {
      "text/plain": [
       "[12, 18, -30, -22, -5, 63, 50, 28, 23, -11, 4, 53]"
      ]
     },
     "execution_count": 46,
     "metadata": {},
     "output_type": "execute_result"
    }
   ],
   "source": [
    "MargenUtilidadMensual = []\n",
    "\n",
    "for i in range(0, len(UtilidadDespuesImpuestos)):\n",
    "    MargenUtilidadMensual.append( round((UtilidadDespuesImpuestos[i]/ingresosMensuales[i])*100))\n",
    "MargenUtilidadMensual"
   ]
  },
  {
   "cell_type": "code",
   "execution_count": 75,
   "id": "9d6a238e",
   "metadata": {},
   "outputs": [
    {
     "name": "stdout",
     "output_type": "stream",
     "text": [
      "1751\n"
     ]
    },
    {
     "data": {
      "text/plain": [
       "['Buen Mes',\n",
       " 'Mal Mes',\n",
       " 'Peor Mes',\n",
       " 'Mal Mes',\n",
       " 'Mal Mes',\n",
       " 'Buen Mes',\n",
       " 'Buen Mes',\n",
       " 'Buen Mes',\n",
       " 'Buen Mes',\n",
       " 'Mal Mes',\n",
       " 'Mal Mes',\n",
       " 'Mejor Mes']"
      ]
     },
     "execution_count": 75,
     "metadata": {},
     "output_type": "execute_result"
    }
   ],
   "source": [
    "PromedioUDIMensual = round(sum(UtilidadDespuesImpuestos)/len(UtilidadDespuesImpuestos))\n",
    "                      \n",
    "#Creacion listado de comentarios \n",
    "ComentariosporMes = []\n",
    "#Evaluación de condicion de Buen Mes o Mal mes y agregación de elementos al listado con funcion append\n",
    "for i in range(0,len(UtilidadDespuesImpuestos)):\n",
    "    if UtilidadDespuesImpuestos[i] > PromedioUDIMensual :\n",
    "            ComentariosporMes.append(\"Buen Mes\")\n",
    "    if UtilidadDespuesImpuestos[i] < PromedioUDIMensual:\n",
    "                ComentariosporMes.append(\"Mal Mes\")\n",
    "\n",
    "#Evaluación de Mejor y Peor mes y reemplazo en en listado de comentarios por mes sin crear un nuevos elementos en lista\n",
    "for i in range(0,len(UtilidadDespuesImpuestos)):\n",
    "    if UtilidadDespuesImpuestos[i] == max(UtilidadDespuesImpuestos):\n",
    "        ComentariosporMes[i]=\"Mejor Mes\"\n",
    "    if UtilidadDespuesImpuestos[i] == min(UtilidadDespuesImpuestos):\n",
    "            ComentariosporMes[i]=\"Peor Mes\"\n",
    "            \n",
    "print(PromedioUDIMensual)\n",
    "ComentariosporMes\n",
    "\n",
    "\n",
    "           "
   ]
  },
  {
   "cell_type": "code",
   "execution_count": null,
   "id": "a543b9ab",
   "metadata": {},
   "outputs": [],
   "source": []
  },
  {
   "cell_type": "code",
   "execution_count": null,
   "id": "00f909da",
   "metadata": {},
   "outputs": [],
   "source": []
  },
  {
   "cell_type": "code",
   "execution_count": null,
   "id": "663b896a",
   "metadata": {},
   "outputs": [],
   "source": []
  },
  {
   "cell_type": "code",
   "execution_count": null,
   "id": "1bb49d15",
   "metadata": {},
   "outputs": [],
   "source": []
  },
  {
   "cell_type": "code",
   "execution_count": null,
   "id": "3e853a27",
   "metadata": {},
   "outputs": [],
   "source": []
  },
  {
   "cell_type": "code",
   "execution_count": 70,
   "id": "3ff92b93",
   "metadata": {},
   "outputs": [
    {
     "name": "stdout",
     "output_type": "stream",
     "text": [
      "Ingresos:\n",
      "[14574.49, 7606.46, 8611.41, 9175.41, 8058.65, 8105.44, 11496.28, 9766.09, 10305.32, 14379.96, 10713.97, 15433.5]\n",
      "Gastos:\n",
      "[12051.82, 5695.07, 12319.2, 12089.72, 8658.57, 840.2, 3285.73, 5821.12, 6976.93, 16618.61, 10054.37, 3803.96]\n",
      "UtilidadMensual: \n",
      "[2523, 1911, -3708, -2914, -600, 7265, 8211, 3945, 3328, -2239, 660, 11630]\n",
      "Utilidad despues de Impuestos:\n",
      "[1766, 1338, -2596, -2040, -420, 5086, 5748, 2762, 2330, -1567, 462, 8141]\n",
      "MargenUtilidad: \n",
      "[12, 18, -30, -22, -5, 63, 50, 28, 23, -11, 4, 53]\n",
      "Comentarios frente a los meses:\n",
      "['Buen Mes', 'Mal Mes', 'Peor Mes', 'Mal Mes', 'Mal Mes', 'Buen Mes', 'Buen Mes', 'Buen Mes', 'Buen Mes', 'Mal Mes', 'Mal Mes', 'Mejor Mes']\n"
     ]
    }
   ],
   "source": [
    "print(\"Ingresos:\")\n",
    "print(ingresosMensuales)\n",
    "print(\"Gastos:\")\n",
    "print(gastosMensuales)\n",
    "print(\"UtilidadMensual: \")\n",
    "print(UtilidadMensualRedondeada)\n",
    "print(\"Utilidad despues de Impuestos:\")\n",
    "print(UtilidadDespuesImpuestos)\n",
    "print(\"MargenUtilidad: \")\n",
    "print(MargenUtilidadMensual)\n",
    "print(\"Comentarios frente a los meses:\")\n",
    "print(ComentariosporMes)\n"
   ]
  },
  {
   "cell_type": "code",
   "execution_count": null,
   "id": "9ce095c9",
   "metadata": {},
   "outputs": [],
   "source": []
  },
  {
   "cell_type": "code",
   "execution_count": null,
   "id": "5c1b72ce",
   "metadata": {},
   "outputs": [],
   "source": []
  },
  {
   "cell_type": "code",
   "execution_count": null,
   "id": "a05d9da9",
   "metadata": {},
   "outputs": [],
   "source": []
  },
  {
   "cell_type": "code",
   "execution_count": null,
   "id": "5e4b0b85",
   "metadata": {},
   "outputs": [],
   "source": []
  },
  {
   "cell_type": "code",
   "execution_count": null,
   "id": "99161eba",
   "metadata": {},
   "outputs": [],
   "source": []
  },
  {
   "cell_type": "code",
   "execution_count": null,
   "id": "d8c33949",
   "metadata": {},
   "outputs": [],
   "source": []
  },
  {
   "cell_type": "code",
   "execution_count": null,
   "id": "dbc21a65",
   "metadata": {},
   "outputs": [],
   "source": []
  },
  {
   "cell_type": "code",
   "execution_count": null,
   "id": "498438f6",
   "metadata": {},
   "outputs": [],
   "source": []
  },
  {
   "cell_type": "code",
   "execution_count": null,
   "id": "460228ba",
   "metadata": {},
   "outputs": [],
   "source": []
  },
  {
   "cell_type": "code",
   "execution_count": null,
   "id": "9cac65a7",
   "metadata": {},
   "outputs": [],
   "source": []
  },
  {
   "cell_type": "code",
   "execution_count": null,
   "id": "6bba1b80",
   "metadata": {},
   "outputs": [],
   "source": []
  },
  {
   "cell_type": "code",
   "execution_count": null,
   "id": "9dda6084",
   "metadata": {},
   "outputs": [],
   "source": []
  },
  {
   "cell_type": "code",
   "execution_count": null,
   "id": "b67fe3d5",
   "metadata": {},
   "outputs": [],
   "source": []
  },
  {
   "cell_type": "code",
   "execution_count": null,
   "id": "074a9c5a",
   "metadata": {},
   "outputs": [],
   "source": []
  },
  {
   "cell_type": "code",
   "execution_count": null,
   "id": "fd5cd994",
   "metadata": {},
   "outputs": [],
   "source": []
  },
  {
   "cell_type": "code",
   "execution_count": null,
   "id": "d758b120",
   "metadata": {},
   "outputs": [],
   "source": []
  },
  {
   "cell_type": "code",
   "execution_count": null,
   "id": "45cc02b2",
   "metadata": {},
   "outputs": [],
   "source": []
  },
  {
   "cell_type": "code",
   "execution_count": null,
   "id": "42501848",
   "metadata": {},
   "outputs": [],
   "source": []
  },
  {
   "cell_type": "code",
   "execution_count": null,
   "id": "d66da670",
   "metadata": {},
   "outputs": [],
   "source": []
  },
  {
   "cell_type": "code",
   "execution_count": null,
   "id": "26c82771",
   "metadata": {},
   "outputs": [],
   "source": []
  },
  {
   "cell_type": "code",
   "execution_count": null,
   "id": "dfc1b998",
   "metadata": {},
   "outputs": [],
   "source": []
  },
  {
   "cell_type": "code",
   "execution_count": null,
   "id": "3a13f8db",
   "metadata": {},
   "outputs": [],
   "source": []
  },
  {
   "cell_type": "code",
   "execution_count": null,
   "id": "2a611e37",
   "metadata": {},
   "outputs": [],
   "source": []
  },
  {
   "cell_type": "code",
   "execution_count": null,
   "id": "f71e80a0",
   "metadata": {},
   "outputs": [],
   "source": []
  },
  {
   "cell_type": "code",
   "execution_count": null,
   "id": "77ddff68",
   "metadata": {},
   "outputs": [],
   "source": []
  },
  {
   "cell_type": "code",
   "execution_count": null,
   "id": "56bfecf4",
   "metadata": {},
   "outputs": [],
   "source": []
  },
  {
   "cell_type": "code",
   "execution_count": null,
   "id": "0ae69f7a",
   "metadata": {},
   "outputs": [],
   "source": []
  },
  {
   "cell_type": "code",
   "execution_count": null,
   "id": "98d9cc6b",
   "metadata": {},
   "outputs": [],
   "source": []
  },
  {
   "cell_type": "code",
   "execution_count": null,
   "id": "82fd8e7a",
   "metadata": {},
   "outputs": [],
   "source": []
  },
  {
   "cell_type": "code",
   "execution_count": 38,
   "id": "c7bdfd84",
   "metadata": {},
   "outputs": [
    {
     "data": {
      "text/plain": [
       "range(0, 1)"
      ]
     },
     "execution_count": 38,
     "metadata": {},
     "output_type": "execute_result"
    }
   ],
   "source": [
    "\n"
   ]
  },
  {
   "cell_type": "code",
   "execution_count": null,
   "id": "26df0dda",
   "metadata": {},
   "outputs": [],
   "source": []
  },
  {
   "cell_type": "code",
   "execution_count": null,
   "id": "7ed1adfc",
   "metadata": {},
   "outputs": [],
   "source": []
  },
  {
   "cell_type": "code",
   "execution_count": null,
   "id": "ce7fb116",
   "metadata": {},
   "outputs": [],
   "source": []
  },
  {
   "cell_type": "code",
   "execution_count": null,
   "id": "ec1df467",
   "metadata": {},
   "outputs": [],
   "source": []
  },
  {
   "cell_type": "code",
   "execution_count": null,
   "id": "f3386cc0",
   "metadata": {},
   "outputs": [],
   "source": []
  },
  {
   "cell_type": "code",
   "execution_count": null,
   "id": "5dd2e700",
   "metadata": {},
   "outputs": [],
   "source": []
  },
  {
   "cell_type": "code",
   "execution_count": null,
   "id": "e280c4ea",
   "metadata": {},
   "outputs": [],
   "source": []
  },
  {
   "cell_type": "code",
   "execution_count": null,
   "id": "b6009cdc",
   "metadata": {},
   "outputs": [],
   "source": []
  },
  {
   "cell_type": "code",
   "execution_count": null,
   "id": "717c19a5",
   "metadata": {},
   "outputs": [],
   "source": []
  },
  {
   "cell_type": "code",
   "execution_count": null,
   "id": "71fc2772",
   "metadata": {},
   "outputs": [],
   "source": []
  },
  {
   "cell_type": "code",
   "execution_count": null,
   "id": "b45e7c8d",
   "metadata": {},
   "outputs": [],
   "source": []
  },
  {
   "cell_type": "code",
   "execution_count": null,
   "id": "80b2a6ea",
   "metadata": {},
   "outputs": [],
   "source": []
  },
  {
   "cell_type": "code",
   "execution_count": null,
   "id": "aba0ee6a",
   "metadata": {},
   "outputs": [],
   "source": []
  },
  {
   "cell_type": "code",
   "execution_count": null,
   "id": "8ba689e8",
   "metadata": {},
   "outputs": [],
   "source": []
  },
  {
   "cell_type": "markdown",
   "id": "a05cb143",
   "metadata": {},
   "source": []
  },
  {
   "cell_type": "code",
   "execution_count": null,
   "id": "55d7f63b",
   "metadata": {},
   "outputs": [],
   "source": []
  },
  {
   "cell_type": "code",
   "execution_count": null,
   "id": "68e66f91",
   "metadata": {},
   "outputs": [],
   "source": []
  },
  {
   "cell_type": "code",
   "execution_count": null,
   "id": "6e7f5ae9",
   "metadata": {},
   "outputs": [],
   "source": []
  },
  {
   "cell_type": "code",
   "execution_count": null,
   "id": "47f2b7c6",
   "metadata": {},
   "outputs": [],
   "source": []
  },
  {
   "cell_type": "code",
   "execution_count": null,
   "id": "c752f5d2",
   "metadata": {},
   "outputs": [],
   "source": []
  }
 ],
 "metadata": {
  "kernelspec": {
   "display_name": "Python 3 (ipykernel)",
   "language": "python",
   "name": "python3"
  },
  "language_info": {
   "codemirror_mode": {
    "name": "ipython",
    "version": 3
   },
   "file_extension": ".py",
   "mimetype": "text/x-python",
   "name": "python",
   "nbconvert_exporter": "python",
   "pygments_lexer": "ipython3",
   "version": "3.11.5"
  }
 },
 "nbformat": 4,
 "nbformat_minor": 5
}
